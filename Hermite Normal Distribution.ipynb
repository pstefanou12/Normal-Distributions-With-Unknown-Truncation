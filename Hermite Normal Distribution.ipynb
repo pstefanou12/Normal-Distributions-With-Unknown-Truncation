{
 "cells": [
  {
   "cell_type": "code",
   "execution_count": 1,
   "metadata": {},
   "outputs": [],
   "source": [
    "import sys \n",
    "sys.path.append('/Users/patroklos/Desktop/delphi_')\n",
    "\n",
    "import torch as ch\n",
    "from torch import Tensor\n",
    "from torch.distributions.multivariate_normal import MultivariateNormal\n",
    "import matplotlib.pyplot as plt\n",
    "import IPython \n",
    "\n",
    "from delphi.distributions.unknown_truncation_normal import TruncatedNormal\n",
    "from delphi import oracle\n",
    "from delphi.utils import constants as consts\n",
    "from delphi.utils.helpers import setup_store_with_metadata\n",
    "from cox.utils import Parameters"
   ]
  },
  {
   "cell_type": "code",
   "execution_count": 2,
   "metadata": {},
   "outputs": [],
   "source": [
    "args = Parameters({ \n",
    "    'samples': 10000, \n",
    "    'batch_size': 10, \n",
    "    'iter_': 1, \n",
    "    'tol': 1e-1, \n",
    "    'lr': 1e-1\n",
    "})"
   ]
  },
  {
   "cell_type": "markdown",
   "metadata": {},
   "source": [
    "Synthetic Data Experiment for 1 Dimensional Censored Gaussian Distributions "
   ]
  },
  {
   "cell_type": "code",
   "execution_count": 3,
   "metadata": {},
   "outputs": [
    {
     "data": {
      "image/png": "[encoded data removed]",
      "text/plain": [
       "<Figure size 432x288 with 1 Axes>"
      ]
     },
     "metadata": {
      "needs_background": "light"
     },
     "output_type": "display_data"
    }
   ],
   "source": [
    "M = MultivariateNormal(ch.zeros(1), ch.ones(1, 1))\n",
    "samples = M.sample([args.samples])\n",
    "\n",
    "plt.hist(samples.flatten(), bins=100)\n",
    "plt.show()"
   ]
  },
  {
   "cell_type": "markdown",
   "metadata": {},
   "source": [
    "Truncate the Dataset"
   ]
  },
  {
   "cell_type": "code",
   "execution_count": 4,
   "metadata": {},
   "outputs": [
    {
     "name": "stdout",
     "output_type": "stream",
     "text": [
      "alpha: 0.4993\n"
     ]
    },
    {
     "data": {
      "image/png": "[encoded data removed]",
      "text/plain": [
       "<Figure size 432x288 with 1 Axes>"
      ]
     },
     "metadata": {
      "needs_background": "light"
     },
     "output_type": "display_data"
    }
   ],
   "source": [
    "phi = oracle.Right(Tensor([0.0]))\n",
    "indices = phi(samples).nonzero(as_tuple=False)[:,0]\n",
    "S = samples[indices]\n",
    "alpha = S.size(0) / samples.size(0)\n",
    "print(\"alpha: {}\".format(alpha))\n",
    "\n",
    "plt.hist(S.flatten(), bins=100)\n",
    "plt.show()"
   ]
  },
  {
   "cell_type": "markdown",
   "metadata": {},
   "source": [
    "Run algorithm to Remove Bias from the Dataset"
   ]
  },
  {
   "cell_type": "code",
   "execution_count": 5,
   "metadata": {},
   "outputs": [
    {
     "name": "stdout",
     "output_type": "stream",
     "text": [
      "Iteration 1 | Log Likelihood: 1.009\n",
      "Iteration 2 | Log Likelihood: 0.91\n"
     ]
    }
   ],
   "source": [
    "truncated = TruncatedNormal(alpha=alpha,\n",
    "                           iter_=2)\n",
    "truncated.fit(S)"
   ]
  },
  {
   "cell_type": "code",
   "execution_count": 6,
   "metadata": {},
   "outputs": [
    {
     "name": "stdout",
     "output_type": "stream",
     "text": [
      "estimated mean:  tensor([[-0.2915]], grad_fn=<MulBackward0>)\n",
      "estimated variance:  tensor([[0.9420]], grad_fn=<CloneBackward0>)\n"
     ]
    }
   ],
   "source": [
    "print(\"estimated mean: \", truncated.loc)\n",
    "print(\"estimated variance: \", truncated.variance)"
   ]
  },
  {
   "cell_type": "code",
   "execution_count": 13,
   "metadata": {},
   "outputs": [
    {
     "data": {
      "text/plain": [
       "tensor([0., 0., 0., 1., 1., 0., 1.])"
      ]
     },
     "execution_count": 13,
     "metadata": {},
     "output_type": "execute_result"
    }
   ],
   "source": [
    "truncated.truncated_normal.phi(Tensor([[1.0], [.5], [.25], [-1.5], [-.5], [.1], [-.1]]))"
   ]
  },
  {
   "cell_type": "code",
   "execution_count": null,
   "metadata": {},
   "outputs": [],
   "source": []
  }
 ],
 "metadata": {
  "kernelspec": {
   "display_name": "Python 2",
   "language": "python",
   "name": "python2"
  },
  "language_info": {
   "codemirror_mode": {
    "name": "ipython",
    "version": 3
   },
   "file_extension": ".py",
   "mimetype": "text/x-python",
   "name": "python",
   "nbconvert_exporter": "python",
   "pygments_lexer": "ipython3",
   "version": "3.7.4"
  }
 },
 "nbformat": 4,
 "nbformat_minor": 2
}
